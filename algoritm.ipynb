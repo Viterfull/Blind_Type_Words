{
 "cells": [
  {
   "cell_type": "code",
   "execution_count": null,
   "id": "101702aa",
   "metadata": {},
   "outputs": [],
   "source": [
    "import string"
   ]
  },
  {
   "cell_type": "code",
   "execution_count": null,
   "id": "c18892cc",
   "metadata": {},
   "outputs": [],
   "source": [
    "words = []\n",
    "# Создаем таблицу перевода, которая заменяет знаки препинания и цифры на пробелы\n",
    "translator = str.maketrans(string.punctuation+'1234567890', ' ' * (len(string.punctuation)+10))\n",
    "with open('in_words.txt') as file:\n",
    "    # читаем из файла все данные\n",
    "    for s in file.readlines():\n",
    "        # Заменяем знаки препинания и цифры на пробелы в строке, а апострофы на ничего\n",
    "        s = s.replace(\"'\", '')\n",
    "        words+= s.lower().translate(translator).split()\n",
    "words"
   ]
  },
  {
   "cell_type": "code",
   "execution_count": null,
   "id": "27109c0c",
   "metadata": {},
   "outputs": [],
   "source": [
    "%%time\n",
    "weight_pair = {}\n",
    "n = 3\n",
    "parser_word = lambda s, n: [s[r:r+n] for r in range(len(s)-n+1)] #функция, которая возвращает все подстроки длины n от строки s\n",
    "def find_weight_pair_in_word(word, n):\n",
    "    \"\"\"\n",
    "        Функция разделяет слова на подстроки n символов и инкрементирует значения в словаре weight_pair\n",
    "    \"\"\"\n",
    "    if len(word) < n:\n",
    "        return -1\n",
    "    for i in parser_word(word, n):\n",
    "#         print (i, end = ' ')\n",
    "        weight_pair[i] = weight_pair.get(i, 0) + 1 \n",
    "#    print('\\n')\n",
    "\n",
    "def find_weight_word(word, n):\n",
    "    \"\"\"\n",
    "        Функция считает минимальный вес слова\n",
    "    \"\"\"\n",
    "    if len(word) < n:\n",
    "        return 0\n",
    "    weight = float('inf')\n",
    "    for i in parser_word(word, n):\n",
    "        weight = min(weight, weight_pair[i])\n",
    "    return weight\n",
    "        \n",
    "for word in words:\n",
    "    find_weight_pair_in_word(word, n) #считаем веса подстрок длины n\n",
    "\n",
    "for key in weight_pair:\n",
    "    print(f'{key}: {weight_pair[key]}') # Вывод всех подстрок, которые имеют вес\n",
    "print('\\n')\n",
    "weight_words = []\n",
    "    \n",
    "for word in words:\n",
    "    weight_words.append([find_weight_word(word, n), word]) #считаем вес всех слов и записываем в массив в виде [слово, вес слова]\n",
    "\n",
    "# удаляем все, что повторяется\n",
    "weight_words = list(set(map(tuple, weight_words)))\n",
    "weight_words = [list(sublist) for sublist in weight_words]\n",
    "weight_words.sort(reverse=True)\n",
    "\n",
    "for i in weight_words:\n",
    "    print(f'{i[1]}: {i[0]}') # вывод слов и их весов\n",
    "    \n",
    "\n",
    "with open('out_task.txt', 'w') as file:   \n",
    "    file.write(' '.join([i[1] for i in weight_words if i[0]>0])) # запись всего, у чего вес больше 0"
   ]
  }
 ],
 "metadata": {
  "kernelspec": {
   "display_name": "Python 3 (ipykernel)",
   "language": "python",
   "name": "python3"
  },
  "language_info": {
   "codemirror_mode": {
    "name": "ipython",
    "version": 3
   },
   "file_extension": ".py",
   "mimetype": "text/x-python",
   "name": "python",
   "nbconvert_exporter": "python",
   "pygments_lexer": "ipython3",
   "version": "3.9.7"
  }
 },
 "nbformat": 4,
 "nbformat_minor": 5
}
